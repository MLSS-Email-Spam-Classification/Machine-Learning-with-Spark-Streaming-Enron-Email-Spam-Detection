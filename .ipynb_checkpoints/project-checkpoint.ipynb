{
 "cells": [
  {
   "cell_type": "code",
   "execution_count": 51,
   "id": "d0bad584",
   "metadata": {},
   "outputs": [
    {
     "ename": "ModuleNotFoundError",
     "evalue": "No module named 'nltk'",
     "output_type": "error",
     "traceback": [
      "\u001b[1;31m---------------------------------------------------------------------------\u001b[0m",
      "\u001b[1;31mModuleNotFoundError\u001b[0m                       Traceback (most recent call last)",
      "\u001b[1;32m~\\AppData\\Local\\Temp/ipykernel_11508/1948021648.py\u001b[0m in \u001b[0;36m<module>\u001b[1;34m\u001b[0m\n\u001b[0;32m      5\u001b[0m \u001b[1;32mimport\u001b[0m \u001b[0memail\u001b[0m\u001b[1;33m\u001b[0m\u001b[1;33m\u001b[0m\u001b[0m\n\u001b[0;32m      6\u001b[0m \u001b[1;32mimport\u001b[0m \u001b[0msklearn\u001b[0m \u001b[1;32mas\u001b[0m \u001b[0msk\u001b[0m\u001b[1;33m\u001b[0m\u001b[1;33m\u001b[0m\u001b[0m\n\u001b[1;32m----> 7\u001b[1;33m \u001b[1;32mimport\u001b[0m \u001b[0mnltk\u001b[0m\u001b[1;33m\u001b[0m\u001b[1;33m\u001b[0m\u001b[0m\n\u001b[0m\u001b[0;32m      8\u001b[0m \u001b[1;32mimport\u001b[0m \u001b[0mmatplotlib\u001b[0m\u001b[1;33m.\u001b[0m\u001b[0mpyplot\u001b[0m \u001b[1;32mas\u001b[0m \u001b[0mplt\u001b[0m\u001b[1;33m\u001b[0m\u001b[1;33m\u001b[0m\u001b[0m\n",
      "\u001b[1;31mModuleNotFoundError\u001b[0m: No module named 'nltk'"
     ]
    }
   ],
   "source": [
    "import numpy as np \n",
    "import pandas as pd\n",
    "import multiprocessing\n",
    "import seaborn as sns\n",
    "import email\n",
    "import sklearn as sk\n",
    "import nltk\n",
    "import matplotlib.pyplot as plt"
   ]
  },
  {
   "cell_type": "code",
   "execution_count": 2,
   "id": "89f1b407",
   "metadata": {},
   "outputs": [],
   "source": [
    "df = pd.read_csv(\"./spam-classification-data/spam/train.csv\")"
   ]
  },
  {
   "cell_type": "code",
   "execution_count": 3,
   "id": "d837ccfa",
   "metadata": {},
   "outputs": [
    {
     "data": {
      "text/html": [
       "<div>\n",
       "<style scoped>\n",
       "    .dataframe tbody tr th:only-of-type {\n",
       "        vertical-align: middle;\n",
       "    }\n",
       "\n",
       "    .dataframe tbody tr th {\n",
       "        vertical-align: top;\n",
       "    }\n",
       "\n",
       "    .dataframe thead th {\n",
       "        text-align: right;\n",
       "    }\n",
       "</style>\n",
       "<table border=\"1\" class=\"dataframe\">\n",
       "  <thead>\n",
       "    <tr style=\"text-align: right;\">\n",
       "      <th></th>\n",
       "      <th>Subject</th>\n",
       "      <th>Message</th>\n",
       "      <th>Spam/Ham</th>\n",
       "    </tr>\n",
       "  </thead>\n",
       "  <tbody>\n",
       "    <tr>\n",
       "      <th>0</th>\n",
       "      <td>transfers from ees</td>\n",
       "      <td>attached is the latest version of the cost cen...</td>\n",
       "      <td>spam</td>\n",
       "    </tr>\n",
       "    <tr>\n",
       "      <th>1</th>\n",
       "      <td>fw : re ivanhoe e . s . d</td>\n",
       "      <td>fyi , kim .\\n- - - - - original message - - - ...</td>\n",
       "      <td>spam</td>\n",
       "    </tr>\n",
       "    <tr>\n",
       "      <th>2</th>\n",
       "      <td>re : enerfin meter 980439 for 10 / 00</td>\n",
       "      <td>it did but tetco prorated the flow between the...</td>\n",
       "      <td>ham</td>\n",
       "    </tr>\n",
       "    <tr>\n",
       "      <th>3</th>\n",
       "      <td>meoh plant status</td>\n",
       "      <td>the methanol plant has determined extensive re...</td>\n",
       "      <td>ham</td>\n",
       "    </tr>\n",
       "    <tr>\n",
       "      <th>4</th>\n",
       "      <td>re : tenaska iv</td>\n",
       "      <td>i tried calling you this am but your phone rol...</td>\n",
       "      <td>spam</td>\n",
       "    </tr>\n",
       "  </tbody>\n",
       "</table>\n",
       "</div>"
      ],
      "text/plain": [
       "                                 Subject  \\\n",
       "0                     transfers from ees   \n",
       "1              fw : re ivanhoe e . s . d   \n",
       "2  re : enerfin meter 980439 for 10 / 00   \n",
       "3                      meoh plant status   \n",
       "4                        re : tenaska iv   \n",
       "\n",
       "                                             Message Spam/Ham  \n",
       "0  attached is the latest version of the cost cen...     spam  \n",
       "1  fyi , kim .\\n- - - - - original message - - - ...     spam  \n",
       "2  it did but tetco prorated the flow between the...      ham  \n",
       "3  the methanol plant has determined extensive re...      ham  \n",
       "4  i tried calling you this am but your phone rol...     spam  "
      ]
     },
     "execution_count": 3,
     "metadata": {},
     "output_type": "execute_result"
    }
   ],
   "source": [
    "df.head()"
   ]
  },
  {
   "cell_type": "code",
   "execution_count": 4,
   "id": "42e6b1e1",
   "metadata": {},
   "outputs": [
    {
     "data": {
      "text/plain": [
       "(30344, 3)"
      ]
     },
     "execution_count": 4,
     "metadata": {},
     "output_type": "execute_result"
    }
   ],
   "source": [
    "df.shape"
   ]
  },
  {
   "cell_type": "code",
   "execution_count": 5,
   "id": "ffb0121b",
   "metadata": {},
   "outputs": [
    {
     "data": {
      "text/plain": [
       "0    attached is the latest version of the cost cen...\n",
       "Name: Message, dtype: object"
      ]
     },
     "execution_count": 5,
     "metadata": {},
     "output_type": "execute_result"
    }
   ],
   "source": [
    "df[\"Message\"].head(1)"
   ]
  },
  {
   "cell_type": "code",
   "execution_count": 6,
   "id": "33c11c9c",
   "metadata": {},
   "outputs": [
    {
     "data": {
      "text/html": [
       "<div>\n",
       "<style scoped>\n",
       "    .dataframe tbody tr th:only-of-type {\n",
       "        vertical-align: middle;\n",
       "    }\n",
       "\n",
       "    .dataframe tbody tr th {\n",
       "        vertical-align: top;\n",
       "    }\n",
       "\n",
       "    .dataframe thead th {\n",
       "        text-align: right;\n",
       "    }\n",
       "</style>\n",
       "<table border=\"1\" class=\"dataframe\">\n",
       "  <thead>\n",
       "    <tr style=\"text-align: right;\">\n",
       "      <th></th>\n",
       "      <th>Subject</th>\n",
       "      <th>Message</th>\n",
       "      <th>Spam/Ham</th>\n",
       "    </tr>\n",
       "  </thead>\n",
       "  <tbody>\n",
       "    <tr>\n",
       "      <th>count</th>\n",
       "      <td>30344</td>\n",
       "      <td>30294</td>\n",
       "      <td>30344</td>\n",
       "    </tr>\n",
       "    <tr>\n",
       "      <th>unique</th>\n",
       "      <td>11715</td>\n",
       "      <td>14285</td>\n",
       "      <td>2</td>\n",
       "    </tr>\n",
       "    <tr>\n",
       "      <th>top</th>\n",
       "      <td>start date : 2 / 6 / 02 ; hourahead hour : 24 ;</td>\n",
       "      <td>start date : 2 / 6 / 02 ; hourahead hour : 24 ...</td>\n",
       "      <td>spam</td>\n",
       "    </tr>\n",
       "    <tr>\n",
       "      <th>freq</th>\n",
       "      <td>4067</td>\n",
       "      <td>4067</td>\n",
       "      <td>15423</td>\n",
       "    </tr>\n",
       "  </tbody>\n",
       "</table>\n",
       "</div>"
      ],
      "text/plain": [
       "                                                Subject  \\\n",
       "count                                             30344   \n",
       "unique                                            11715   \n",
       "top     start date : 2 / 6 / 02 ; hourahead hour : 24 ;   \n",
       "freq                                               4067   \n",
       "\n",
       "                                                  Message Spam/Ham  \n",
       "count                                               30294    30344  \n",
       "unique                                              14285        2  \n",
       "top     start date : 2 / 6 / 02 ; hourahead hour : 24 ...     spam  \n",
       "freq                                                 4067    15423  "
      ]
     },
     "execution_count": 6,
     "metadata": {},
     "output_type": "execute_result"
    }
   ],
   "source": [
    "df.describe()"
   ]
  },
  {
   "cell_type": "code",
   "execution_count": 7,
   "id": "3bf512e5",
   "metadata": {},
   "outputs": [
    {
     "data": {
      "text/plain": [
       "pandas.core.series.Series"
      ]
     },
     "execution_count": 7,
     "metadata": {},
     "output_type": "execute_result"
    }
   ],
   "source": [
    "type(df[\"Message\"])"
   ]
  },
  {
   "cell_type": "code",
   "execution_count": 8,
   "id": "edf32411",
   "metadata": {},
   "outputs": [
    {
     "data": {
      "text/plain": [
       "['attached is the latest version of the cost center assignments for the transfers out of ees . these transfers will be effective july 1 , 2001 and i need to get this to hr by friday , june 1 , 2001 to give them time to get everything effected .',\n",
       " \"i think i have incorporated all your comments , but please review one more time and make sure we have not included anyone we shouldn ' t have or excluded anyone . you ' ll note that at this point we are not forming east and west risk management cost centers . don and rogers have decided for cost management purposes to leave it consolidated at this point .\",\n",
       " 'once you have signed off on your groupings , rachel massey in corporate planning will be working with each of you to forecast your q 3 and q 4 cost center expense plans .',\n",
       " \"please let me know asap of any changes and don ' t hesitate to call with questions .\",\n",
       " 'thanks',\n",
       " 'wade']"
      ]
     },
     "execution_count": 8,
     "metadata": {},
     "output_type": "execute_result"
    }
   ],
   "source": [
    "df[\"Message\"].str.split(\"\\n\")[0]"
   ]
  },
  {
   "cell_type": "code",
   "execution_count": 9,
   "id": "1c4c5704",
   "metadata": {},
   "outputs": [
    {
     "name": "stdout",
     "output_type": "stream",
     "text": [
      "Successfully retrieved header information!\n"
     ]
    }
   ],
   "source": [
    "def insert_value(dictionary, key, value):\n",
    "    if key in dictionary:\n",
    "        values = dictionary.get(key)\n",
    "        values.append(value)\n",
    "        dictionary[key] = values\n",
    "    else:\n",
    "        dictionary[key] = [value]\n",
    "    return dictionary\n",
    "\n",
    "def get_headers(df, header_names):\n",
    "    headers = {}\n",
    "    messages = df[\"Message\"]\n",
    "    for message in messages:\n",
    "        e = email.message_from_string(str(message))\n",
    "        for item in header_names:\n",
    "            header = e.get(item)\n",
    "            insert_value(dictionary = headers, key = item, value = header) \n",
    "    print(\"Successfully retrieved header information!\")\n",
    "    return headers\n",
    "header_names = [\"Date\", \"Subject\", \"X-Folder\", \"X-From\", \"X-To\"]    \n",
    "headers = get_headers(df, header_names)"
   ]
  },
  {
   "cell_type": "code",
   "execution_count": 10,
   "id": "3a5c0c0a",
   "metadata": {},
   "outputs": [
    {
     "name": "stdout",
     "output_type": "stream",
     "text": [
      "attached is the latest version of the cost center assignments for the transfers out of ees . these transfers will be effective july 1 , 2001 and i need to get this to hr by friday , june 1 , 2001 to give them time to get everything effected .\n",
      "i think i have incorporated all your comments , but please review one more time and make sure we have not included anyone we shouldn ' t have or excluded anyone . you ' ll note that at this point we are not forming east and west risk management cost centers . don and rogers have decided for cost management purposes to leave it consolidated at this point .\n",
      "once you have signed off on your groupings , rachel massey in corporate planning will be working with each of you to forecast your q 3 and q 4 cost center expense plans .\n",
      "please let me know asap of any changes and don ' t hesitate to call with questions .\n"
     ]
    }
   ],
   "source": [
    "print(\"\\n\".join(df[\"Message\"][0].split(\"\\n\")[:-2]))"
   ]
  },
  {
   "cell_type": "code",
   "execution_count": 11,
   "id": "2da5b63d",
   "metadata": {},
   "outputs": [
    {
     "data": {
      "text/plain": [
       "Subject      0\n",
       "Message     50\n",
       "Spam/Ham     0\n",
       "dtype: int64"
      ]
     },
     "execution_count": 11,
     "metadata": {},
     "output_type": "execute_result"
    }
   ],
   "source": [
    "pd.isnull(df).sum()"
   ]
  },
  {
   "cell_type": "code",
   "execution_count": 12,
   "id": "a9e519aa",
   "metadata": {},
   "outputs": [],
   "source": [
    "df.dropna(axis=0, inplace=True)"
   ]
  },
  {
   "cell_type": "code",
   "execution_count": 13,
   "id": "f0f7e55d",
   "metadata": {},
   "outputs": [
    {
     "data": {
      "text/plain": [
       "Subject     0\n",
       "Message     0\n",
       "Spam/Ham    0\n",
       "dtype: int64"
      ]
     },
     "execution_count": 13,
     "metadata": {},
     "output_type": "execute_result"
    }
   ],
   "source": [
    "pd.isnull(df).sum()"
   ]
  },
  {
   "cell_type": "code",
   "execution_count": 14,
   "id": "929d6d9d",
   "metadata": {},
   "outputs": [],
   "source": [
    "def get_messages(df):\n",
    "    messages = []\n",
    "    for i in df[\"Message\"]:\n",
    "        messages.append(\"\\n\".join(i.split(\"\\n\")[:-2]))\n",
    "    return messages\n",
    "body = get_messages(df)"
   ]
  },
  {
   "cell_type": "code",
   "execution_count": 15,
   "id": "d8e39fae",
   "metadata": {},
   "outputs": [
    {
     "name": "stdout",
     "output_type": "stream",
     "text": [
      "fyi , kim .\n",
      "- - - - - original message - - - - -\n",
      "from : frazier , perry\n",
      "sent : thursday , march 07 , 2002 2 : 25 pm\n",
      "to : lebeau , randy ; watson , kimberly ; abdmoulaie , mansoor\n",
      "subject : re : re ivanhoe e . s . d\n",
      "just a couple of additional thoughts , the cost estimate for esd mods of $ 130 , 000 will typically be , about 25 % more . the e abdmoulaie , mansoor ; frazier , perry\n",
      "subject : fw : re ivanhoe e . s . d\n",
      "here is an estimate for the upgrade to the ivanhoe esd system . please keep in mind that the hp at the location has not been in operation for several years and if it is ever required , we may be looking a major expense for that , too . ( $ 200 , 000 + or - )\n",
      "- - - - - original message - - - - -\n",
      "from : jordan , fred\n",
      "sent : thursday , march 07 , 2002 7 : 24 am\n",
      "to : lebeau , randy\n",
      "subject : re ivanhoe e . s . d\n",
      "fyi\n",
      "- - - - - - - - - - - - - - - - - - - - - - forwarded by fred jordan / et & s / enron on 03 / 07 / 2002 07 : 10 am - - - - - - - - - - - - - - - - - - - - - - - - - - -\n",
      ">\n",
      "eddie pool\n",
      "03 / 07 / 2002 07 : 13 am\n",
      "to : fred jordan / et & s / enron @ enron\n",
      "cc :\n",
      "subject : re ivanhoe e . s . d\n",
      "fred\n"
     ]
    }
   ],
   "source": [
    "print(body[1])"
   ]
  },
  {
   "cell_type": "code",
   "execution_count": 40,
   "id": "0e8644a7",
   "metadata": {},
   "outputs": [],
   "source": [
    "def parse_raw_message(raw_message):\n",
    "    lines = raw_message.split('\\n')\n",
    "    email = {}\n",
    "    message = ''\n",
    "    keys_to_extract = ['from', 'to']\n",
    "    for line in lines:\n",
    "        if ':' not in line:\n",
    "            message += line.strip()\n",
    "            email['body'] = message\n",
    "        else:\n",
    "            pairs = line.split(':')\n",
    "            key = pairs[0].lower()\n",
    "            val = pairs[1].strip()\n",
    "            if key in keys_to_extract:\n",
    "                email[key] = val\n",
    "    return email\n",
    "def parse_into_emails(messages):\n",
    "    emails = [parse_raw_message(message) for message in messages]\n",
    "    return emails"
   ]
  },
  {
   "cell_type": "code",
   "execution_count": 41,
   "id": "f16824c9",
   "metadata": {},
   "outputs": [],
   "source": [
    "email_df = pd.DataFrame(parse_into_emails(df.Message))"
   ]
  },
  {
   "cell_type": "code",
   "execution_count": 47,
   "id": "5d0d7370",
   "metadata": {},
   "outputs": [
    {
     "data": {
      "text/plain": [
       "'fyi , kim .- - - - - original message - - - - -just a couple of additional thoughts , the cost estimate for esd mods of $ 130 , 000 will typically be , about 25 % more . the e abdmoulaie , mansoor ; frazier , perryhere is an estimate for the upgrade to the ivanhoe esd system . please keep in mind that the hp at the location has not been in operation for several years and if it is ever required , we may be looking a major expense for that , too . ( $ 200 , 000 + or - )- - - - - original message - - - - -fyi>eddie poolfredhere is what i came up with on the ivanhoe station .>'"
      ]
     },
     "execution_count": 47,
     "metadata": {},
     "output_type": "execute_result"
    }
   ],
   "source": [
    "email_df.body[1]"
   ]
  },
  {
   "cell_type": "code",
   "execution_count": 50,
   "id": "cbfb6265",
   "metadata": {},
   "outputs": [
    {
     "data": {
      "text/plain": [
       "<AxesSubplot:>"
      ]
     },
     "execution_count": 50,
     "metadata": {},
     "output_type": "execute_result"
    },
    {
     "data": {
      "image/png": "[encoded data removed]",
      "text/plain": [
       "<Figure size 432x288 with 1 Axes>"
      ]
     },
     "metadata": {
      "needs_background": "light"
     },
     "output_type": "display_data"
    }
   ],
   "source": [
    "df[\"Spam/Ham\"].hist(bins=3)"
   ]
  },
  {
   "cell_type": "code",
   "execution_count": null,
   "id": "b94d977d",
   "metadata": {},
   "outputs": [],
   "source": []
  }
 ],
 "metadata": {
  "kernelspec": {
   "display_name": "Python 3 (ipykernel)",
   "language": "python",
   "name": "python3"
  },
  "language_info": {
   "codemirror_mode": {
    "name": "ipython",
    "version": 3
   },
   "file_extension": ".py",
   "mimetype": "text/x-python",
   "name": "python",
   "nbconvert_exporter": "python",
   "pygments_lexer": "ipython3",
   "version": "3.8.5"
  }
 },
 "nbformat": 4,
 "nbformat_minor": 5
}
